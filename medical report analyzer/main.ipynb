{
 "cells": [
  {
   "cell_type": "code",
   "execution_count": 1,
   "id": "875b85c7",
   "metadata": {},
   "outputs": [],
   "source": [
    "import pandas as pd\n",
    "import numpy as np\n",
    "import matplotlib.pyplot as plt\n",
    "import seaborn as sns\n",
    "from sklearn.preprocessing import MultiLabelBinarizer\n",
    "from sklearn.ensemble import RandomForestClassifier\n",
    "from sklearn.model_selection import train_test_split\n",
    "from sklearn.preprocessing import LabelEncoder\n",
    "from sklearn.ensemble import RandomForestClassifier\n",
    "from sklearn.model_selection import cross_val_score\n",
    "import joblib"
   ]
  },
  {
   "cell_type": "code",
   "execution_count": 3,
   "id": "9a75b3cb",
   "metadata": {},
   "outputs": [],
   "source": [
    "df=pd.read_csv(r\"D:\\Downloads\\archive\\dataset.csv\")"
   ]
  },
  {
   "cell_type": "code",
   "execution_count": 4,
   "id": "17eb83ad",
   "metadata": {},
   "outputs": [
    {
     "data": {
      "text/html": [
       "<div>\n",
       "<style scoped>\n",
       "    .dataframe tbody tr th:only-of-type {\n",
       "        vertical-align: middle;\n",
       "    }\n",
       "\n",
       "    .dataframe tbody tr th {\n",
       "        vertical-align: top;\n",
       "    }\n",
       "\n",
       "    .dataframe thead th {\n",
       "        text-align: right;\n",
       "    }\n",
       "</style>\n",
       "<table border=\"1\" class=\"dataframe\">\n",
       "  <thead>\n",
       "    <tr style=\"text-align: right;\">\n",
       "      <th></th>\n",
       "      <th>Disease</th>\n",
       "      <th>Symptom_1</th>\n",
       "      <th>Symptom_2</th>\n",
       "      <th>Symptom_3</th>\n",
       "      <th>Symptom_4</th>\n",
       "      <th>Symptom_5</th>\n",
       "      <th>Symptom_6</th>\n",
       "      <th>Symptom_7</th>\n",
       "      <th>Symptom_8</th>\n",
       "      <th>Symptom_9</th>\n",
       "      <th>Symptom_10</th>\n",
       "      <th>Symptom_11</th>\n",
       "      <th>Symptom_12</th>\n",
       "      <th>Symptom_13</th>\n",
       "      <th>Symptom_14</th>\n",
       "      <th>Symptom_15</th>\n",
       "      <th>Symptom_16</th>\n",
       "      <th>Symptom_17</th>\n",
       "    </tr>\n",
       "  </thead>\n",
       "  <tbody>\n",
       "    <tr>\n",
       "      <th>0</th>\n",
       "      <td>Fungal infection</td>\n",
       "      <td>itching</td>\n",
       "      <td>skin_rash</td>\n",
       "      <td>nodal_skin_eruptions</td>\n",
       "      <td>dischromic _patches</td>\n",
       "      <td>NaN</td>\n",
       "      <td>NaN</td>\n",
       "      <td>NaN</td>\n",
       "      <td>NaN</td>\n",
       "      <td>NaN</td>\n",
       "      <td>NaN</td>\n",
       "      <td>NaN</td>\n",
       "      <td>NaN</td>\n",
       "      <td>NaN</td>\n",
       "      <td>NaN</td>\n",
       "      <td>NaN</td>\n",
       "      <td>NaN</td>\n",
       "      <td>NaN</td>\n",
       "    </tr>\n",
       "    <tr>\n",
       "      <th>1</th>\n",
       "      <td>Fungal infection</td>\n",
       "      <td>skin_rash</td>\n",
       "      <td>nodal_skin_eruptions</td>\n",
       "      <td>dischromic _patches</td>\n",
       "      <td>NaN</td>\n",
       "      <td>NaN</td>\n",
       "      <td>NaN</td>\n",
       "      <td>NaN</td>\n",
       "      <td>NaN</td>\n",
       "      <td>NaN</td>\n",
       "      <td>NaN</td>\n",
       "      <td>NaN</td>\n",
       "      <td>NaN</td>\n",
       "      <td>NaN</td>\n",
       "      <td>NaN</td>\n",
       "      <td>NaN</td>\n",
       "      <td>NaN</td>\n",
       "      <td>NaN</td>\n",
       "    </tr>\n",
       "    <tr>\n",
       "      <th>2</th>\n",
       "      <td>Fungal infection</td>\n",
       "      <td>itching</td>\n",
       "      <td>nodal_skin_eruptions</td>\n",
       "      <td>dischromic _patches</td>\n",
       "      <td>NaN</td>\n",
       "      <td>NaN</td>\n",
       "      <td>NaN</td>\n",
       "      <td>NaN</td>\n",
       "      <td>NaN</td>\n",
       "      <td>NaN</td>\n",
       "      <td>NaN</td>\n",
       "      <td>NaN</td>\n",
       "      <td>NaN</td>\n",
       "      <td>NaN</td>\n",
       "      <td>NaN</td>\n",
       "      <td>NaN</td>\n",
       "      <td>NaN</td>\n",
       "      <td>NaN</td>\n",
       "    </tr>\n",
       "    <tr>\n",
       "      <th>3</th>\n",
       "      <td>Fungal infection</td>\n",
       "      <td>itching</td>\n",
       "      <td>skin_rash</td>\n",
       "      <td>dischromic _patches</td>\n",
       "      <td>NaN</td>\n",
       "      <td>NaN</td>\n",
       "      <td>NaN</td>\n",
       "      <td>NaN</td>\n",
       "      <td>NaN</td>\n",
       "      <td>NaN</td>\n",
       "      <td>NaN</td>\n",
       "      <td>NaN</td>\n",
       "      <td>NaN</td>\n",
       "      <td>NaN</td>\n",
       "      <td>NaN</td>\n",
       "      <td>NaN</td>\n",
       "      <td>NaN</td>\n",
       "      <td>NaN</td>\n",
       "    </tr>\n",
       "    <tr>\n",
       "      <th>4</th>\n",
       "      <td>Fungal infection</td>\n",
       "      <td>itching</td>\n",
       "      <td>skin_rash</td>\n",
       "      <td>nodal_skin_eruptions</td>\n",
       "      <td>NaN</td>\n",
       "      <td>NaN</td>\n",
       "      <td>NaN</td>\n",
       "      <td>NaN</td>\n",
       "      <td>NaN</td>\n",
       "      <td>NaN</td>\n",
       "      <td>NaN</td>\n",
       "      <td>NaN</td>\n",
       "      <td>NaN</td>\n",
       "      <td>NaN</td>\n",
       "      <td>NaN</td>\n",
       "      <td>NaN</td>\n",
       "      <td>NaN</td>\n",
       "      <td>NaN</td>\n",
       "    </tr>\n",
       "    <tr>\n",
       "      <th>5</th>\n",
       "      <td>Fungal infection</td>\n",
       "      <td>skin_rash</td>\n",
       "      <td>nodal_skin_eruptions</td>\n",
       "      <td>dischromic _patches</td>\n",
       "      <td>NaN</td>\n",
       "      <td>NaN</td>\n",
       "      <td>NaN</td>\n",
       "      <td>NaN</td>\n",
       "      <td>NaN</td>\n",
       "      <td>NaN</td>\n",
       "      <td>NaN</td>\n",
       "      <td>NaN</td>\n",
       "      <td>NaN</td>\n",
       "      <td>NaN</td>\n",
       "      <td>NaN</td>\n",
       "      <td>NaN</td>\n",
       "      <td>NaN</td>\n",
       "      <td>NaN</td>\n",
       "    </tr>\n",
       "    <tr>\n",
       "      <th>6</th>\n",
       "      <td>Fungal infection</td>\n",
       "      <td>itching</td>\n",
       "      <td>nodal_skin_eruptions</td>\n",
       "      <td>dischromic _patches</td>\n",
       "      <td>NaN</td>\n",
       "      <td>NaN</td>\n",
       "      <td>NaN</td>\n",
       "      <td>NaN</td>\n",
       "      <td>NaN</td>\n",
       "      <td>NaN</td>\n",
       "      <td>NaN</td>\n",
       "      <td>NaN</td>\n",
       "      <td>NaN</td>\n",
       "      <td>NaN</td>\n",
       "      <td>NaN</td>\n",
       "      <td>NaN</td>\n",
       "      <td>NaN</td>\n",
       "      <td>NaN</td>\n",
       "    </tr>\n",
       "    <tr>\n",
       "      <th>7</th>\n",
       "      <td>Fungal infection</td>\n",
       "      <td>itching</td>\n",
       "      <td>skin_rash</td>\n",
       "      <td>dischromic _patches</td>\n",
       "      <td>NaN</td>\n",
       "      <td>NaN</td>\n",
       "      <td>NaN</td>\n",
       "      <td>NaN</td>\n",
       "      <td>NaN</td>\n",
       "      <td>NaN</td>\n",
       "      <td>NaN</td>\n",
       "      <td>NaN</td>\n",
       "      <td>NaN</td>\n",
       "      <td>NaN</td>\n",
       "      <td>NaN</td>\n",
       "      <td>NaN</td>\n",
       "      <td>NaN</td>\n",
       "      <td>NaN</td>\n",
       "    </tr>\n",
       "    <tr>\n",
       "      <th>8</th>\n",
       "      <td>Fungal infection</td>\n",
       "      <td>itching</td>\n",
       "      <td>skin_rash</td>\n",
       "      <td>nodal_skin_eruptions</td>\n",
       "      <td>NaN</td>\n",
       "      <td>NaN</td>\n",
       "      <td>NaN</td>\n",
       "      <td>NaN</td>\n",
       "      <td>NaN</td>\n",
       "      <td>NaN</td>\n",
       "      <td>NaN</td>\n",
       "      <td>NaN</td>\n",
       "      <td>NaN</td>\n",
       "      <td>NaN</td>\n",
       "      <td>NaN</td>\n",
       "      <td>NaN</td>\n",
       "      <td>NaN</td>\n",
       "      <td>NaN</td>\n",
       "    </tr>\n",
       "    <tr>\n",
       "      <th>9</th>\n",
       "      <td>Fungal infection</td>\n",
       "      <td>itching</td>\n",
       "      <td>skin_rash</td>\n",
       "      <td>nodal_skin_eruptions</td>\n",
       "      <td>dischromic _patches</td>\n",
       "      <td>NaN</td>\n",
       "      <td>NaN</td>\n",
       "      <td>NaN</td>\n",
       "      <td>NaN</td>\n",
       "      <td>NaN</td>\n",
       "      <td>NaN</td>\n",
       "      <td>NaN</td>\n",
       "      <td>NaN</td>\n",
       "      <td>NaN</td>\n",
       "      <td>NaN</td>\n",
       "      <td>NaN</td>\n",
       "      <td>NaN</td>\n",
       "      <td>NaN</td>\n",
       "    </tr>\n",
       "    <tr>\n",
       "      <th>10</th>\n",
       "      <td>Allergy</td>\n",
       "      <td>continuous_sneezing</td>\n",
       "      <td>shivering</td>\n",
       "      <td>chills</td>\n",
       "      <td>watering_from_eyes</td>\n",
       "      <td>NaN</td>\n",
       "      <td>NaN</td>\n",
       "      <td>NaN</td>\n",
       "      <td>NaN</td>\n",
       "      <td>NaN</td>\n",
       "      <td>NaN</td>\n",
       "      <td>NaN</td>\n",
       "      <td>NaN</td>\n",
       "      <td>NaN</td>\n",
       "      <td>NaN</td>\n",
       "      <td>NaN</td>\n",
       "      <td>NaN</td>\n",
       "      <td>NaN</td>\n",
       "    </tr>\n",
       "    <tr>\n",
       "      <th>11</th>\n",
       "      <td>Allergy</td>\n",
       "      <td>shivering</td>\n",
       "      <td>chills</td>\n",
       "      <td>watering_from_eyes</td>\n",
       "      <td>NaN</td>\n",
       "      <td>NaN</td>\n",
       "      <td>NaN</td>\n",
       "      <td>NaN</td>\n",
       "      <td>NaN</td>\n",
       "      <td>NaN</td>\n",
       "      <td>NaN</td>\n",
       "      <td>NaN</td>\n",
       "      <td>NaN</td>\n",
       "      <td>NaN</td>\n",
       "      <td>NaN</td>\n",
       "      <td>NaN</td>\n",
       "      <td>NaN</td>\n",
       "      <td>NaN</td>\n",
       "    </tr>\n",
       "    <tr>\n",
       "      <th>12</th>\n",
       "      <td>Allergy</td>\n",
       "      <td>continuous_sneezing</td>\n",
       "      <td>chills</td>\n",
       "      <td>watering_from_eyes</td>\n",
       "      <td>NaN</td>\n",
       "      <td>NaN</td>\n",
       "      <td>NaN</td>\n",
       "      <td>NaN</td>\n",
       "      <td>NaN</td>\n",
       "      <td>NaN</td>\n",
       "      <td>NaN</td>\n",
       "      <td>NaN</td>\n",
       "      <td>NaN</td>\n",
       "      <td>NaN</td>\n",
       "      <td>NaN</td>\n",
       "      <td>NaN</td>\n",
       "      <td>NaN</td>\n",
       "      <td>NaN</td>\n",
       "    </tr>\n",
       "    <tr>\n",
       "      <th>13</th>\n",
       "      <td>Allergy</td>\n",
       "      <td>continuous_sneezing</td>\n",
       "      <td>shivering</td>\n",
       "      <td>watering_from_eyes</td>\n",
       "      <td>NaN</td>\n",
       "      <td>NaN</td>\n",
       "      <td>NaN</td>\n",
       "      <td>NaN</td>\n",
       "      <td>NaN</td>\n",
       "      <td>NaN</td>\n",
       "      <td>NaN</td>\n",
       "      <td>NaN</td>\n",
       "      <td>NaN</td>\n",
       "      <td>NaN</td>\n",
       "      <td>NaN</td>\n",
       "      <td>NaN</td>\n",
       "      <td>NaN</td>\n",
       "      <td>NaN</td>\n",
       "    </tr>\n",
       "    <tr>\n",
       "      <th>14</th>\n",
       "      <td>Allergy</td>\n",
       "      <td>continuous_sneezing</td>\n",
       "      <td>shivering</td>\n",
       "      <td>chills</td>\n",
       "      <td>NaN</td>\n",
       "      <td>NaN</td>\n",
       "      <td>NaN</td>\n",
       "      <td>NaN</td>\n",
       "      <td>NaN</td>\n",
       "      <td>NaN</td>\n",
       "      <td>NaN</td>\n",
       "      <td>NaN</td>\n",
       "      <td>NaN</td>\n",
       "      <td>NaN</td>\n",
       "      <td>NaN</td>\n",
       "      <td>NaN</td>\n",
       "      <td>NaN</td>\n",
       "      <td>NaN</td>\n",
       "    </tr>\n",
       "    <tr>\n",
       "      <th>15</th>\n",
       "      <td>Allergy</td>\n",
       "      <td>shivering</td>\n",
       "      <td>chills</td>\n",
       "      <td>watering_from_eyes</td>\n",
       "      <td>NaN</td>\n",
       "      <td>NaN</td>\n",
       "      <td>NaN</td>\n",
       "      <td>NaN</td>\n",
       "      <td>NaN</td>\n",
       "      <td>NaN</td>\n",
       "      <td>NaN</td>\n",
       "      <td>NaN</td>\n",
       "      <td>NaN</td>\n",
       "      <td>NaN</td>\n",
       "      <td>NaN</td>\n",
       "      <td>NaN</td>\n",
       "      <td>NaN</td>\n",
       "      <td>NaN</td>\n",
       "    </tr>\n",
       "    <tr>\n",
       "      <th>16</th>\n",
       "      <td>Allergy</td>\n",
       "      <td>continuous_sneezing</td>\n",
       "      <td>chills</td>\n",
       "      <td>watering_from_eyes</td>\n",
       "      <td>NaN</td>\n",
       "      <td>NaN</td>\n",
       "      <td>NaN</td>\n",
       "      <td>NaN</td>\n",
       "      <td>NaN</td>\n",
       "      <td>NaN</td>\n",
       "      <td>NaN</td>\n",
       "      <td>NaN</td>\n",
       "      <td>NaN</td>\n",
       "      <td>NaN</td>\n",
       "      <td>NaN</td>\n",
       "      <td>NaN</td>\n",
       "      <td>NaN</td>\n",
       "      <td>NaN</td>\n",
       "    </tr>\n",
       "    <tr>\n",
       "      <th>17</th>\n",
       "      <td>Allergy</td>\n",
       "      <td>continuous_sneezing</td>\n",
       "      <td>shivering</td>\n",
       "      <td>watering_from_eyes</td>\n",
       "      <td>NaN</td>\n",
       "      <td>NaN</td>\n",
       "      <td>NaN</td>\n",
       "      <td>NaN</td>\n",
       "      <td>NaN</td>\n",
       "      <td>NaN</td>\n",
       "      <td>NaN</td>\n",
       "      <td>NaN</td>\n",
       "      <td>NaN</td>\n",
       "      <td>NaN</td>\n",
       "      <td>NaN</td>\n",
       "      <td>NaN</td>\n",
       "      <td>NaN</td>\n",
       "      <td>NaN</td>\n",
       "    </tr>\n",
       "    <tr>\n",
       "      <th>18</th>\n",
       "      <td>Allergy</td>\n",
       "      <td>continuous_sneezing</td>\n",
       "      <td>shivering</td>\n",
       "      <td>chills</td>\n",
       "      <td>NaN</td>\n",
       "      <td>NaN</td>\n",
       "      <td>NaN</td>\n",
       "      <td>NaN</td>\n",
       "      <td>NaN</td>\n",
       "      <td>NaN</td>\n",
       "      <td>NaN</td>\n",
       "      <td>NaN</td>\n",
       "      <td>NaN</td>\n",
       "      <td>NaN</td>\n",
       "      <td>NaN</td>\n",
       "      <td>NaN</td>\n",
       "      <td>NaN</td>\n",
       "      <td>NaN</td>\n",
       "    </tr>\n",
       "    <tr>\n",
       "      <th>19</th>\n",
       "      <td>Allergy</td>\n",
       "      <td>continuous_sneezing</td>\n",
       "      <td>shivering</td>\n",
       "      <td>chills</td>\n",
       "      <td>watering_from_eyes</td>\n",
       "      <td>NaN</td>\n",
       "      <td>NaN</td>\n",
       "      <td>NaN</td>\n",
       "      <td>NaN</td>\n",
       "      <td>NaN</td>\n",
       "      <td>NaN</td>\n",
       "      <td>NaN</td>\n",
       "      <td>NaN</td>\n",
       "      <td>NaN</td>\n",
       "      <td>NaN</td>\n",
       "      <td>NaN</td>\n",
       "      <td>NaN</td>\n",
       "      <td>NaN</td>\n",
       "    </tr>\n",
       "    <tr>\n",
       "      <th>20</th>\n",
       "      <td>GERD</td>\n",
       "      <td>stomach_pain</td>\n",
       "      <td>acidity</td>\n",
       "      <td>ulcers_on_tongue</td>\n",
       "      <td>vomiting</td>\n",
       "      <td>cough</td>\n",
       "      <td>chest_pain</td>\n",
       "      <td>NaN</td>\n",
       "      <td>NaN</td>\n",
       "      <td>NaN</td>\n",
       "      <td>NaN</td>\n",
       "      <td>NaN</td>\n",
       "      <td>NaN</td>\n",
       "      <td>NaN</td>\n",
       "      <td>NaN</td>\n",
       "      <td>NaN</td>\n",
       "      <td>NaN</td>\n",
       "      <td>NaN</td>\n",
       "    </tr>\n",
       "    <tr>\n",
       "      <th>21</th>\n",
       "      <td>GERD</td>\n",
       "      <td>stomach_pain</td>\n",
       "      <td>ulcers_on_tongue</td>\n",
       "      <td>vomiting</td>\n",
       "      <td>cough</td>\n",
       "      <td>chest_pain</td>\n",
       "      <td>NaN</td>\n",
       "      <td>NaN</td>\n",
       "      <td>NaN</td>\n",
       "      <td>NaN</td>\n",
       "      <td>NaN</td>\n",
       "      <td>NaN</td>\n",
       "      <td>NaN</td>\n",
       "      <td>NaN</td>\n",
       "      <td>NaN</td>\n",
       "      <td>NaN</td>\n",
       "      <td>NaN</td>\n",
       "      <td>NaN</td>\n",
       "    </tr>\n",
       "    <tr>\n",
       "      <th>22</th>\n",
       "      <td>GERD</td>\n",
       "      <td>stomach_pain</td>\n",
       "      <td>acidity</td>\n",
       "      <td>vomiting</td>\n",
       "      <td>cough</td>\n",
       "      <td>chest_pain</td>\n",
       "      <td>NaN</td>\n",
       "      <td>NaN</td>\n",
       "      <td>NaN</td>\n",
       "      <td>NaN</td>\n",
       "      <td>NaN</td>\n",
       "      <td>NaN</td>\n",
       "      <td>NaN</td>\n",
       "      <td>NaN</td>\n",
       "      <td>NaN</td>\n",
       "      <td>NaN</td>\n",
       "      <td>NaN</td>\n",
       "      <td>NaN</td>\n",
       "    </tr>\n",
       "    <tr>\n",
       "      <th>23</th>\n",
       "      <td>GERD</td>\n",
       "      <td>stomach_pain</td>\n",
       "      <td>acidity</td>\n",
       "      <td>ulcers_on_tongue</td>\n",
       "      <td>cough</td>\n",
       "      <td>chest_pain</td>\n",
       "      <td>NaN</td>\n",
       "      <td>NaN</td>\n",
       "      <td>NaN</td>\n",
       "      <td>NaN</td>\n",
       "      <td>NaN</td>\n",
       "      <td>NaN</td>\n",
       "      <td>NaN</td>\n",
       "      <td>NaN</td>\n",
       "      <td>NaN</td>\n",
       "      <td>NaN</td>\n",
       "      <td>NaN</td>\n",
       "      <td>NaN</td>\n",
       "    </tr>\n",
       "  </tbody>\n",
       "</table>\n",
       "</div>"
      ],
      "text/plain": [
       "             Disease             Symptom_1              Symptom_2  \\\n",
       "0   Fungal infection               itching              skin_rash   \n",
       "1   Fungal infection             skin_rash   nodal_skin_eruptions   \n",
       "2   Fungal infection               itching   nodal_skin_eruptions   \n",
       "3   Fungal infection               itching              skin_rash   \n",
       "4   Fungal infection               itching              skin_rash   \n",
       "5   Fungal infection             skin_rash   nodal_skin_eruptions   \n",
       "6   Fungal infection               itching   nodal_skin_eruptions   \n",
       "7   Fungal infection               itching              skin_rash   \n",
       "8   Fungal infection               itching              skin_rash   \n",
       "9   Fungal infection               itching              skin_rash   \n",
       "10           Allergy   continuous_sneezing              shivering   \n",
       "11           Allergy             shivering                 chills   \n",
       "12           Allergy   continuous_sneezing                 chills   \n",
       "13           Allergy   continuous_sneezing              shivering   \n",
       "14           Allergy   continuous_sneezing              shivering   \n",
       "15           Allergy             shivering                 chills   \n",
       "16           Allergy   continuous_sneezing                 chills   \n",
       "17           Allergy   continuous_sneezing              shivering   \n",
       "18           Allergy   continuous_sneezing              shivering   \n",
       "19           Allergy   continuous_sneezing              shivering   \n",
       "20              GERD          stomach_pain                acidity   \n",
       "21              GERD          stomach_pain       ulcers_on_tongue   \n",
       "22              GERD          stomach_pain                acidity   \n",
       "23              GERD          stomach_pain                acidity   \n",
       "\n",
       "                Symptom_3             Symptom_4    Symptom_5    Symptom_6  \\\n",
       "0    nodal_skin_eruptions   dischromic _patches          NaN          NaN   \n",
       "1     dischromic _patches                   NaN          NaN          NaN   \n",
       "2     dischromic _patches                   NaN          NaN          NaN   \n",
       "3     dischromic _patches                   NaN          NaN          NaN   \n",
       "4    nodal_skin_eruptions                   NaN          NaN          NaN   \n",
       "5     dischromic _patches                   NaN          NaN          NaN   \n",
       "6     dischromic _patches                   NaN          NaN          NaN   \n",
       "7     dischromic _patches                   NaN          NaN          NaN   \n",
       "8    nodal_skin_eruptions                   NaN          NaN          NaN   \n",
       "9    nodal_skin_eruptions   dischromic _patches          NaN          NaN   \n",
       "10                 chills    watering_from_eyes          NaN          NaN   \n",
       "11     watering_from_eyes                   NaN          NaN          NaN   \n",
       "12     watering_from_eyes                   NaN          NaN          NaN   \n",
       "13     watering_from_eyes                   NaN          NaN          NaN   \n",
       "14                 chills                   NaN          NaN          NaN   \n",
       "15     watering_from_eyes                   NaN          NaN          NaN   \n",
       "16     watering_from_eyes                   NaN          NaN          NaN   \n",
       "17     watering_from_eyes                   NaN          NaN          NaN   \n",
       "18                 chills                   NaN          NaN          NaN   \n",
       "19                 chills    watering_from_eyes          NaN          NaN   \n",
       "20       ulcers_on_tongue              vomiting        cough   chest_pain   \n",
       "21               vomiting                 cough   chest_pain          NaN   \n",
       "22               vomiting                 cough   chest_pain          NaN   \n",
       "23       ulcers_on_tongue                 cough   chest_pain          NaN   \n",
       "\n",
       "   Symptom_7 Symptom_8 Symptom_9 Symptom_10 Symptom_11 Symptom_12 Symptom_13  \\\n",
       "0        NaN       NaN       NaN        NaN        NaN        NaN        NaN   \n",
       "1        NaN       NaN       NaN        NaN        NaN        NaN        NaN   \n",
       "2        NaN       NaN       NaN        NaN        NaN        NaN        NaN   \n",
       "3        NaN       NaN       NaN        NaN        NaN        NaN        NaN   \n",
       "4        NaN       NaN       NaN        NaN        NaN        NaN        NaN   \n",
       "5        NaN       NaN       NaN        NaN        NaN        NaN        NaN   \n",
       "6        NaN       NaN       NaN        NaN        NaN        NaN        NaN   \n",
       "7        NaN       NaN       NaN        NaN        NaN        NaN        NaN   \n",
       "8        NaN       NaN       NaN        NaN        NaN        NaN        NaN   \n",
       "9        NaN       NaN       NaN        NaN        NaN        NaN        NaN   \n",
       "10       NaN       NaN       NaN        NaN        NaN        NaN        NaN   \n",
       "11       NaN       NaN       NaN        NaN        NaN        NaN        NaN   \n",
       "12       NaN       NaN       NaN        NaN        NaN        NaN        NaN   \n",
       "13       NaN       NaN       NaN        NaN        NaN        NaN        NaN   \n",
       "14       NaN       NaN       NaN        NaN        NaN        NaN        NaN   \n",
       "15       NaN       NaN       NaN        NaN        NaN        NaN        NaN   \n",
       "16       NaN       NaN       NaN        NaN        NaN        NaN        NaN   \n",
       "17       NaN       NaN       NaN        NaN        NaN        NaN        NaN   \n",
       "18       NaN       NaN       NaN        NaN        NaN        NaN        NaN   \n",
       "19       NaN       NaN       NaN        NaN        NaN        NaN        NaN   \n",
       "20       NaN       NaN       NaN        NaN        NaN        NaN        NaN   \n",
       "21       NaN       NaN       NaN        NaN        NaN        NaN        NaN   \n",
       "22       NaN       NaN       NaN        NaN        NaN        NaN        NaN   \n",
       "23       NaN       NaN       NaN        NaN        NaN        NaN        NaN   \n",
       "\n",
       "   Symptom_14 Symptom_15 Symptom_16 Symptom_17  \n",
       "0         NaN        NaN        NaN        NaN  \n",
       "1         NaN        NaN        NaN        NaN  \n",
       "2         NaN        NaN        NaN        NaN  \n",
       "3         NaN        NaN        NaN        NaN  \n",
       "4         NaN        NaN        NaN        NaN  \n",
       "5         NaN        NaN        NaN        NaN  \n",
       "6         NaN        NaN        NaN        NaN  \n",
       "7         NaN        NaN        NaN        NaN  \n",
       "8         NaN        NaN        NaN        NaN  \n",
       "9         NaN        NaN        NaN        NaN  \n",
       "10        NaN        NaN        NaN        NaN  \n",
       "11        NaN        NaN        NaN        NaN  \n",
       "12        NaN        NaN        NaN        NaN  \n",
       "13        NaN        NaN        NaN        NaN  \n",
       "14        NaN        NaN        NaN        NaN  \n",
       "15        NaN        NaN        NaN        NaN  \n",
       "16        NaN        NaN        NaN        NaN  \n",
       "17        NaN        NaN        NaN        NaN  \n",
       "18        NaN        NaN        NaN        NaN  \n",
       "19        NaN        NaN        NaN        NaN  \n",
       "20        NaN        NaN        NaN        NaN  \n",
       "21        NaN        NaN        NaN        NaN  \n",
       "22        NaN        NaN        NaN        NaN  \n",
       "23        NaN        NaN        NaN        NaN  "
      ]
     },
     "execution_count": 4,
     "metadata": {},
     "output_type": "execute_result"
    }
   ],
   "source": [
    "df.head(24)"
   ]
  },
  {
   "cell_type": "code",
   "execution_count": 5,
   "id": "d030ee47",
   "metadata": {},
   "outputs": [
    {
     "data": {
      "text/plain": [
       "(41,)"
      ]
     },
     "execution_count": 5,
     "metadata": {},
     "output_type": "execute_result"
    }
   ],
   "source": [
    "df['Disease'].unique().shape"
   ]
  },
  {
   "cell_type": "code",
   "execution_count": 6,
   "id": "14c44b73",
   "metadata": {},
   "outputs": [
    {
     "data": {
      "text/plain": [
       "array(['itching', ' skin_rash', ' continuous_sneezing', ' shivering',\n",
       "       ' stomach_pain', ' acidity', ' vomiting', ' indigestion',\n",
       "       ' muscle_wasting', ' patches_in_throat', ' fatigue',\n",
       "       ' weight_loss', ' sunken_eyes', ' cough', ' headache',\n",
       "       ' chest_pain', ' back_pain', ' weakness_in_limbs', ' chills',\n",
       "       ' joint_pain', ' yellowish_skin', ' constipation',\n",
       "       ' pain_during_bowel_movements', ' breathlessness', ' cramps',\n",
       "       ' weight_gain', ' mood_swings', ' neck_pain', ' muscle_weakness',\n",
       "       ' stiff_neck', ' pus_filled_pimples', ' burning_micturition',\n",
       "       ' bladder_discomfort', ' high_fever'], dtype=object)"
      ]
     },
     "execution_count": 6,
     "metadata": {},
     "output_type": "execute_result"
    }
   ],
   "source": [
    "df['Symptom_1'].unique()"
   ]
  },
  {
   "cell_type": "code",
   "execution_count": 7,
   "id": "b8efc9ba",
   "metadata": {},
   "outputs": [],
   "source": [
    "df['Symptom_1']=pd.Series(df['Symptom_1'].str.strip())"
   ]
  },
  {
   "cell_type": "code",
   "execution_count": 8,
   "id": "31b6c9ee",
   "metadata": {},
   "outputs": [
    {
     "data": {
      "text/plain": [
       "array(['itching', 'skin_rash', 'continuous_sneezing', 'shivering',\n",
       "       'stomach_pain', 'acidity', 'vomiting', 'indigestion',\n",
       "       'muscle_wasting', 'patches_in_throat', 'fatigue', 'weight_loss',\n",
       "       'sunken_eyes', 'cough', 'headache', 'chest_pain', 'back_pain',\n",
       "       'weakness_in_limbs', 'chills', 'joint_pain', 'yellowish_skin',\n",
       "       'constipation', 'pain_during_bowel_movements', 'breathlessness',\n",
       "       'cramps', 'weight_gain', 'mood_swings', 'neck_pain',\n",
       "       'muscle_weakness', 'stiff_neck', 'pus_filled_pimples',\n",
       "       'burning_micturition', 'bladder_discomfort', 'high_fever'],\n",
       "      dtype=object)"
      ]
     },
     "execution_count": 8,
     "metadata": {},
     "output_type": "execute_result"
    }
   ],
   "source": [
    "df['Symptom_1'].unique()"
   ]
  },
  {
   "cell_type": "code",
   "execution_count": 9,
   "id": "edafc930",
   "metadata": {},
   "outputs": [],
   "source": [
    "for col in df.columns:\n",
    "    df[col]=pd.Series(df[col].str.strip())"
   ]
  },
  {
   "cell_type": "code",
   "execution_count": 10,
   "id": "6738c19a",
   "metadata": {},
   "outputs": [
    {
     "data": {
      "text/plain": [
       "array(['nodal_skin_eruptions', 'dischromic _patches', 'chills',\n",
       "       'watering_from_eyes', 'ulcers_on_tongue', 'vomiting',\n",
       "       'yellowish_skin', 'nausea', 'stomach_pain', 'burning_micturition',\n",
       "       'abdominal_pain', 'loss_of_appetite', 'high_fever',\n",
       "       'extra_marital_contacts', 'restlessness', 'lethargy',\n",
       "       'dehydration', 'diarrhoea', 'breathlessness', 'dizziness',\n",
       "       'loss_of_balance', 'headache', 'blurred_and_distorted_vision',\n",
       "       'neck_pain', 'weakness_of_one_body_side', 'altered_sensorium',\n",
       "       'fatigue', 'weight_loss', 'sweating', 'joint_pain', 'dark_urine',\n",
       "       'swelling_of_stomach', 'cough', 'pain_in_anal_region',\n",
       "       'bloody_stool', 'chest_pain', 'bruising', 'obesity',\n",
       "       'cold_hands_and_feets', 'mood_swings', 'anxiety', 'knee_pain',\n",
       "       'hip_joint_pain', 'swelling_joints', 'movement_stiffness',\n",
       "       'spinning_movements', 'blackheads', 'scurring',\n",
       "       'foul_smell_of urine', 'continuous_feel_of_urine', 'skin_peeling',\n",
       "       'silver_like_dusting', 'blister', 'red_sore_around_nose'],\n",
       "      dtype=object)"
      ]
     },
     "execution_count": 10,
     "metadata": {},
     "output_type": "execute_result"
    }
   ],
   "source": [
    "df['Symptom_3'].unique()"
   ]
  },
  {
   "cell_type": "code",
   "execution_count": 11,
   "id": "14201371",
   "metadata": {},
   "outputs": [],
   "source": [
    "symptom_cols = [col for col in df.columns if col.startswith(\"Symptom\")]"
   ]
  },
  {
   "cell_type": "code",
   "execution_count": 12,
   "id": "4160aa81",
   "metadata": {},
   "outputs": [],
   "source": [
    "df[\"symptom_tuple\"] = df[symptom_cols].apply(lambda row: tuple(row.dropna()), axis=1)"
   ]
  },
  {
   "cell_type": "code",
   "execution_count": 13,
   "id": "c3baf0d3",
   "metadata": {},
   "outputs": [
    {
     "data": {
      "text/plain": [
       "('itching', 'skin_rash', 'nodal_skin_eruptions', 'dischromic _patches')"
      ]
     },
     "execution_count": 13,
     "metadata": {},
     "output_type": "execute_result"
    }
   ],
   "source": [
    "df['symptom_tuple'][0]"
   ]
  },
  {
   "cell_type": "code",
   "execution_count": 14,
   "id": "9591ff30",
   "metadata": {},
   "outputs": [
    {
     "data": {
      "text/plain": [
       "Index(['Disease', 'Symptom_1', 'Symptom_2', 'Symptom_3', 'Symptom_4',\n",
       "       'Symptom_5', 'Symptom_6', 'Symptom_7', 'Symptom_8', 'Symptom_9',\n",
       "       'Symptom_10', 'Symptom_11', 'Symptom_12', 'Symptom_13', 'Symptom_14',\n",
       "       'Symptom_15', 'Symptom_16', 'Symptom_17', 'symptom_tuple'],\n",
       "      dtype='object')"
      ]
     },
     "execution_count": 14,
     "metadata": {},
     "output_type": "execute_result"
    }
   ],
   "source": [
    "df.columns"
   ]
  },
  {
   "cell_type": "code",
   "execution_count": 15,
   "id": "41f39777",
   "metadata": {},
   "outputs": [],
   "source": [
    "df.drop(['Symptom_1', 'Symptom_2', 'Symptom_3', 'Symptom_4',\n",
    "       'Symptom_5', 'Symptom_6', 'Symptom_7', 'Symptom_8', 'Symptom_9',\n",
    "       'Symptom_10', 'Symptom_11', 'Symptom_12', 'Symptom_13', 'Symptom_14',\n",
    "       'Symptom_15', 'Symptom_16', 'Symptom_17'],axis=1,inplace=True)"
   ]
  },
  {
   "cell_type": "code",
   "execution_count": 16,
   "id": "65ee803c",
   "metadata": {},
   "outputs": [
    {
     "data": {
      "text/html": [
       "<div>\n",
       "<style scoped>\n",
       "    .dataframe tbody tr th:only-of-type {\n",
       "        vertical-align: middle;\n",
       "    }\n",
       "\n",
       "    .dataframe tbody tr th {\n",
       "        vertical-align: top;\n",
       "    }\n",
       "\n",
       "    .dataframe thead th {\n",
       "        text-align: right;\n",
       "    }\n",
       "</style>\n",
       "<table border=\"1\" class=\"dataframe\">\n",
       "  <thead>\n",
       "    <tr style=\"text-align: right;\">\n",
       "      <th></th>\n",
       "      <th>Disease</th>\n",
       "      <th>symptom_tuple</th>\n",
       "    </tr>\n",
       "  </thead>\n",
       "  <tbody>\n",
       "    <tr>\n",
       "      <th>0</th>\n",
       "      <td>Fungal infection</td>\n",
       "      <td>(itching, skin_rash, nodal_skin_eruptions, dis...</td>\n",
       "    </tr>\n",
       "    <tr>\n",
       "      <th>1</th>\n",
       "      <td>Fungal infection</td>\n",
       "      <td>(skin_rash, nodal_skin_eruptions, dischromic _...</td>\n",
       "    </tr>\n",
       "    <tr>\n",
       "      <th>2</th>\n",
       "      <td>Fungal infection</td>\n",
       "      <td>(itching, nodal_skin_eruptions, dischromic _pa...</td>\n",
       "    </tr>\n",
       "    <tr>\n",
       "      <th>3</th>\n",
       "      <td>Fungal infection</td>\n",
       "      <td>(itching, skin_rash, dischromic _patches)</td>\n",
       "    </tr>\n",
       "    <tr>\n",
       "      <th>4</th>\n",
       "      <td>Fungal infection</td>\n",
       "      <td>(itching, skin_rash, nodal_skin_eruptions)</td>\n",
       "    </tr>\n",
       "    <tr>\n",
       "      <th>5</th>\n",
       "      <td>Fungal infection</td>\n",
       "      <td>(skin_rash, nodal_skin_eruptions, dischromic _...</td>\n",
       "    </tr>\n",
       "    <tr>\n",
       "      <th>6</th>\n",
       "      <td>Fungal infection</td>\n",
       "      <td>(itching, nodal_skin_eruptions, dischromic _pa...</td>\n",
       "    </tr>\n",
       "    <tr>\n",
       "      <th>7</th>\n",
       "      <td>Fungal infection</td>\n",
       "      <td>(itching, skin_rash, dischromic _patches)</td>\n",
       "    </tr>\n",
       "    <tr>\n",
       "      <th>8</th>\n",
       "      <td>Fungal infection</td>\n",
       "      <td>(itching, skin_rash, nodal_skin_eruptions)</td>\n",
       "    </tr>\n",
       "    <tr>\n",
       "      <th>9</th>\n",
       "      <td>Fungal infection</td>\n",
       "      <td>(itching, skin_rash, nodal_skin_eruptions, dis...</td>\n",
       "    </tr>\n",
       "    <tr>\n",
       "      <th>10</th>\n",
       "      <td>Allergy</td>\n",
       "      <td>(continuous_sneezing, shivering, chills, water...</td>\n",
       "    </tr>\n",
       "    <tr>\n",
       "      <th>11</th>\n",
       "      <td>Allergy</td>\n",
       "      <td>(shivering, chills, watering_from_eyes)</td>\n",
       "    </tr>\n",
       "    <tr>\n",
       "      <th>12</th>\n",
       "      <td>Allergy</td>\n",
       "      <td>(continuous_sneezing, chills, watering_from_eyes)</td>\n",
       "    </tr>\n",
       "    <tr>\n",
       "      <th>13</th>\n",
       "      <td>Allergy</td>\n",
       "      <td>(continuous_sneezing, shivering, watering_from...</td>\n",
       "    </tr>\n",
       "    <tr>\n",
       "      <th>14</th>\n",
       "      <td>Allergy</td>\n",
       "      <td>(continuous_sneezing, shivering, chills)</td>\n",
       "    </tr>\n",
       "    <tr>\n",
       "      <th>15</th>\n",
       "      <td>Allergy</td>\n",
       "      <td>(shivering, chills, watering_from_eyes)</td>\n",
       "    </tr>\n",
       "    <tr>\n",
       "      <th>16</th>\n",
       "      <td>Allergy</td>\n",
       "      <td>(continuous_sneezing, chills, watering_from_eyes)</td>\n",
       "    </tr>\n",
       "    <tr>\n",
       "      <th>17</th>\n",
       "      <td>Allergy</td>\n",
       "      <td>(continuous_sneezing, shivering, watering_from...</td>\n",
       "    </tr>\n",
       "    <tr>\n",
       "      <th>18</th>\n",
       "      <td>Allergy</td>\n",
       "      <td>(continuous_sneezing, shivering, chills)</td>\n",
       "    </tr>\n",
       "    <tr>\n",
       "      <th>19</th>\n",
       "      <td>Allergy</td>\n",
       "      <td>(continuous_sneezing, shivering, chills, water...</td>\n",
       "    </tr>\n",
       "  </tbody>\n",
       "</table>\n",
       "</div>"
      ],
      "text/plain": [
       "             Disease                                      symptom_tuple\n",
       "0   Fungal infection  (itching, skin_rash, nodal_skin_eruptions, dis...\n",
       "1   Fungal infection  (skin_rash, nodal_skin_eruptions, dischromic _...\n",
       "2   Fungal infection  (itching, nodal_skin_eruptions, dischromic _pa...\n",
       "3   Fungal infection          (itching, skin_rash, dischromic _patches)\n",
       "4   Fungal infection         (itching, skin_rash, nodal_skin_eruptions)\n",
       "5   Fungal infection  (skin_rash, nodal_skin_eruptions, dischromic _...\n",
       "6   Fungal infection  (itching, nodal_skin_eruptions, dischromic _pa...\n",
       "7   Fungal infection          (itching, skin_rash, dischromic _patches)\n",
       "8   Fungal infection         (itching, skin_rash, nodal_skin_eruptions)\n",
       "9   Fungal infection  (itching, skin_rash, nodal_skin_eruptions, dis...\n",
       "10           Allergy  (continuous_sneezing, shivering, chills, water...\n",
       "11           Allergy            (shivering, chills, watering_from_eyes)\n",
       "12           Allergy  (continuous_sneezing, chills, watering_from_eyes)\n",
       "13           Allergy  (continuous_sneezing, shivering, watering_from...\n",
       "14           Allergy           (continuous_sneezing, shivering, chills)\n",
       "15           Allergy            (shivering, chills, watering_from_eyes)\n",
       "16           Allergy  (continuous_sneezing, chills, watering_from_eyes)\n",
       "17           Allergy  (continuous_sneezing, shivering, watering_from...\n",
       "18           Allergy           (continuous_sneezing, shivering, chills)\n",
       "19           Allergy  (continuous_sneezing, shivering, chills, water..."
      ]
     },
     "execution_count": 16,
     "metadata": {},
     "output_type": "execute_result"
    }
   ],
   "source": [
    "df.head(20)"
   ]
  },
  {
   "cell_type": "code",
   "execution_count": 17,
   "id": "ac869ae2",
   "metadata": {},
   "outputs": [
    {
     "data": {
      "text/plain": [
       "(4920, 2)"
      ]
     },
     "execution_count": 17,
     "metadata": {},
     "output_type": "execute_result"
    }
   ],
   "source": [
    "df.shape"
   ]
  },
  {
   "cell_type": "code",
   "execution_count": 18,
   "id": "c51eedd2",
   "metadata": {},
   "outputs": [
    {
     "data": {
      "text/plain": [
       "4616"
      ]
     },
     "execution_count": 18,
     "metadata": {},
     "output_type": "execute_result"
    }
   ],
   "source": [
    "df['symptom_tuple'].duplicated().sum()"
   ]
  },
  {
   "cell_type": "code",
   "execution_count": 19,
   "id": "912f7dd6",
   "metadata": {},
   "outputs": [
    {
     "data": {
      "text/plain": [
       "4616"
      ]
     },
     "execution_count": 19,
     "metadata": {},
     "output_type": "execute_result"
    }
   ],
   "source": [
    "df.duplicated().sum()"
   ]
  },
  {
   "cell_type": "code",
   "execution_count": 20,
   "id": "a5b8506e",
   "metadata": {},
   "outputs": [
    {
     "data": {
      "text/plain": [
       "Series([], Name: Disease, dtype: int64)"
      ]
     },
     "execution_count": 20,
     "metadata": {},
     "output_type": "execute_result"
    }
   ],
   "source": [
    "conflicts = df.groupby('symptom_tuple')['Disease'].nunique()\n",
    "conflicts[conflicts > 1]"
   ]
  },
  {
   "cell_type": "code",
   "execution_count": 21,
   "id": "c3fc5b3d",
   "metadata": {},
   "outputs": [
    {
     "data": {
      "text/plain": [
       "Index(['Disease', 'symptom_tuple'], dtype='object')"
      ]
     },
     "execution_count": 21,
     "metadata": {},
     "output_type": "execute_result"
    }
   ],
   "source": [
    "df.columns"
   ]
  },
  {
   "cell_type": "code",
   "execution_count": 22,
   "id": "c8949ec8",
   "metadata": {},
   "outputs": [
    {
     "data": {
      "text/plain": [
       "(4920, 2)"
      ]
     },
     "execution_count": 22,
     "metadata": {},
     "output_type": "execute_result"
    }
   ],
   "source": [
    "df.shape"
   ]
  },
  {
   "cell_type": "code",
   "execution_count": 23,
   "id": "ede903dc",
   "metadata": {},
   "outputs": [
    {
     "data": {
      "text/plain": [
       "4616"
      ]
     },
     "execution_count": 23,
     "metadata": {},
     "output_type": "execute_result"
    }
   ],
   "source": [
    "df.duplicated().sum()"
   ]
  },
  {
   "cell_type": "code",
   "execution_count": 24,
   "id": "d2dc859a",
   "metadata": {},
   "outputs": [
    {
     "data": {
      "text/plain": [
       "Disease          0\n",
       "symptom_tuple    0\n",
       "dtype: int64"
      ]
     },
     "execution_count": 24,
     "metadata": {},
     "output_type": "execute_result"
    }
   ],
   "source": [
    "df.isnull().sum()"
   ]
  },
  {
   "cell_type": "code",
   "execution_count": 25,
   "id": "8cc1f518",
   "metadata": {},
   "outputs": [],
   "source": [
    "df = df.drop_duplicates()"
   ]
  },
  {
   "cell_type": "code",
   "execution_count": 26,
   "id": "55034251",
   "metadata": {},
   "outputs": [
    {
     "data": {
      "text/plain": [
       "Disease          0\n",
       "symptom_tuple    0\n",
       "dtype: int64"
      ]
     },
     "execution_count": 26,
     "metadata": {},
     "output_type": "execute_result"
    }
   ],
   "source": [
    "df.isnull().sum()"
   ]
  },
  {
   "cell_type": "code",
   "execution_count": 27,
   "id": "de2a8750",
   "metadata": {},
   "outputs": [
    {
     "data": {
      "text/plain": [
       "(304, 2)"
      ]
     },
     "execution_count": 27,
     "metadata": {},
     "output_type": "execute_result"
    }
   ],
   "source": [
    "df.shape"
   ]
  },
  {
   "cell_type": "code",
   "execution_count": 28,
   "id": "21a51681",
   "metadata": {},
   "outputs": [
    {
     "data": {
      "text/html": [
       "<div>\n",
       "<style scoped>\n",
       "    .dataframe tbody tr th:only-of-type {\n",
       "        vertical-align: middle;\n",
       "    }\n",
       "\n",
       "    .dataframe tbody tr th {\n",
       "        vertical-align: top;\n",
       "    }\n",
       "\n",
       "    .dataframe thead th {\n",
       "        text-align: right;\n",
       "    }\n",
       "</style>\n",
       "<table border=\"1\" class=\"dataframe\">\n",
       "  <thead>\n",
       "    <tr style=\"text-align: right;\">\n",
       "      <th></th>\n",
       "      <th>Disease</th>\n",
       "      <th>symptom_tuple</th>\n",
       "    </tr>\n",
       "  </thead>\n",
       "  <tbody>\n",
       "    <tr>\n",
       "      <th>0</th>\n",
       "      <td>Fungal infection</td>\n",
       "      <td>(itching, skin_rash, nodal_skin_eruptions, dis...</td>\n",
       "    </tr>\n",
       "    <tr>\n",
       "      <th>1</th>\n",
       "      <td>Fungal infection</td>\n",
       "      <td>(skin_rash, nodal_skin_eruptions, dischromic _...</td>\n",
       "    </tr>\n",
       "    <tr>\n",
       "      <th>2</th>\n",
       "      <td>Fungal infection</td>\n",
       "      <td>(itching, nodal_skin_eruptions, dischromic _pa...</td>\n",
       "    </tr>\n",
       "    <tr>\n",
       "      <th>3</th>\n",
       "      <td>Fungal infection</td>\n",
       "      <td>(itching, skin_rash, dischromic _patches)</td>\n",
       "    </tr>\n",
       "    <tr>\n",
       "      <th>4</th>\n",
       "      <td>Fungal infection</td>\n",
       "      <td>(itching, skin_rash, nodal_skin_eruptions)</td>\n",
       "    </tr>\n",
       "    <tr>\n",
       "      <th>...</th>\n",
       "      <td>...</td>\n",
       "      <td>...</td>\n",
       "    </tr>\n",
       "    <tr>\n",
       "      <th>402</th>\n",
       "      <td>Impetigo</td>\n",
       "      <td>(high_fever, blister, red_sore_around_nose, ye...</td>\n",
       "    </tr>\n",
       "    <tr>\n",
       "      <th>403</th>\n",
       "      <td>Impetigo</td>\n",
       "      <td>(skin_rash, blister, red_sore_around_nose, yel...</td>\n",
       "    </tr>\n",
       "    <tr>\n",
       "      <th>405</th>\n",
       "      <td>Impetigo</td>\n",
       "      <td>(skin_rash, high_fever, red_sore_around_nose, ...</td>\n",
       "    </tr>\n",
       "    <tr>\n",
       "      <th>406</th>\n",
       "      <td>Impetigo</td>\n",
       "      <td>(skin_rash, high_fever, blister, yellow_crust_...</td>\n",
       "    </tr>\n",
       "    <tr>\n",
       "      <th>407</th>\n",
       "      <td>Impetigo</td>\n",
       "      <td>(skin_rash, high_fever, blister, red_sore_arou...</td>\n",
       "    </tr>\n",
       "  </tbody>\n",
       "</table>\n",
       "<p>304 rows × 2 columns</p>\n",
       "</div>"
      ],
      "text/plain": [
       "              Disease                                      symptom_tuple\n",
       "0    Fungal infection  (itching, skin_rash, nodal_skin_eruptions, dis...\n",
       "1    Fungal infection  (skin_rash, nodal_skin_eruptions, dischromic _...\n",
       "2    Fungal infection  (itching, nodal_skin_eruptions, dischromic _pa...\n",
       "3    Fungal infection          (itching, skin_rash, dischromic _patches)\n",
       "4    Fungal infection         (itching, skin_rash, nodal_skin_eruptions)\n",
       "..                ...                                                ...\n",
       "402          Impetigo  (high_fever, blister, red_sore_around_nose, ye...\n",
       "403          Impetigo  (skin_rash, blister, red_sore_around_nose, yel...\n",
       "405          Impetigo  (skin_rash, high_fever, red_sore_around_nose, ...\n",
       "406          Impetigo  (skin_rash, high_fever, blister, yellow_crust_...\n",
       "407          Impetigo  (skin_rash, high_fever, blister, red_sore_arou...\n",
       "\n",
       "[304 rows x 2 columns]"
      ]
     },
     "execution_count": 28,
     "metadata": {},
     "output_type": "execute_result"
    }
   ],
   "source": [
    "df"
   ]
  },
  {
   "cell_type": "code",
   "execution_count": 29,
   "id": "2efafb2c",
   "metadata": {},
   "outputs": [],
   "source": [
    "x  = df['symptom_tuple']\n",
    "y  = df['Disease']"
   ]
  },
  {
   "cell_type": "code",
   "execution_count": 30,
   "id": "20f7b5cc",
   "metadata": {},
   "outputs": [
    {
     "data": {
      "text/plain": [
       "Disease          0\n",
       "symptom_tuple    0\n",
       "dtype: int64"
      ]
     },
     "execution_count": 30,
     "metadata": {},
     "output_type": "execute_result"
    }
   ],
   "source": [
    "df.isnull().sum()"
   ]
  },
  {
   "cell_type": "code",
   "execution_count": 31,
   "id": "a2923daa",
   "metadata": {},
   "outputs": [],
   "source": [
    "\n",
    "x_train, x_test, y_train, y_test = train_test_split(\n",
    "    x,\n",
    "    y,\n",
    "    test_size=0.2,\n",
    "    random_state=42,\n",
    "    stratify=y\n",
    ")"
   ]
  },
  {
   "cell_type": "code",
   "execution_count": 33,
   "id": "833faebd",
   "metadata": {},
   "outputs": [
    {
     "data": {
      "text/plain": [
       "Symptom    0\n",
       "weight     0\n",
       "dtype: int64"
      ]
     },
     "execution_count": 33,
     "metadata": {},
     "output_type": "execute_result"
    }
   ],
   "source": [
    "df_severity = pd.read_csv(r\"D:\\Downloads\\archive\\Symptom-severity.csv\")\n",
    "df_severity.shape\n",
    "df_severity.isnull().sum()"
   ]
  },
  {
   "cell_type": "code",
   "execution_count": 34,
   "id": "f02c0fe9",
   "metadata": {},
   "outputs": [
    {
     "data": {
      "text/html": [
       "<div>\n",
       "<style scoped>\n",
       "    .dataframe tbody tr th:only-of-type {\n",
       "        vertical-align: middle;\n",
       "    }\n",
       "\n",
       "    .dataframe tbody tr th {\n",
       "        vertical-align: top;\n",
       "    }\n",
       "\n",
       "    .dataframe thead th {\n",
       "        text-align: right;\n",
       "    }\n",
       "</style>\n",
       "<table border=\"1\" class=\"dataframe\">\n",
       "  <thead>\n",
       "    <tr style=\"text-align: right;\">\n",
       "      <th></th>\n",
       "      <th>Symptom</th>\n",
       "      <th>weight</th>\n",
       "    </tr>\n",
       "  </thead>\n",
       "  <tbody>\n",
       "    <tr>\n",
       "      <th>0</th>\n",
       "      <td>itching</td>\n",
       "      <td>1</td>\n",
       "    </tr>\n",
       "    <tr>\n",
       "      <th>1</th>\n",
       "      <td>skin_rash</td>\n",
       "      <td>3</td>\n",
       "    </tr>\n",
       "    <tr>\n",
       "      <th>2</th>\n",
       "      <td>nodal_skin_eruptions</td>\n",
       "      <td>4</td>\n",
       "    </tr>\n",
       "    <tr>\n",
       "      <th>3</th>\n",
       "      <td>continuous_sneezing</td>\n",
       "      <td>4</td>\n",
       "    </tr>\n",
       "    <tr>\n",
       "      <th>4</th>\n",
       "      <td>shivering</td>\n",
       "      <td>5</td>\n",
       "    </tr>\n",
       "  </tbody>\n",
       "</table>\n",
       "</div>"
      ],
      "text/plain": [
       "                Symptom  weight\n",
       "0               itching       1\n",
       "1             skin_rash       3\n",
       "2  nodal_skin_eruptions       4\n",
       "3   continuous_sneezing       4\n",
       "4             shivering       5"
      ]
     },
     "execution_count": 34,
     "metadata": {},
     "output_type": "execute_result"
    }
   ],
   "source": [
    "df_severity.head()"
   ]
  },
  {
   "cell_type": "code",
   "execution_count": null,
   "id": "ecc4fca9",
   "metadata": {},
   "outputs": [],
   "source": [
    "df_des = pd.read_csv(r\"D:\\Downloads\\archive\\symptom_Description.csv\").dropna()\n",
    "df_precautions = pd.read_csv(r\"D:\\Downloads\\archive\\symptom_precaution.csv\").dropna()"
   ]
  },
  {
   "cell_type": "code",
   "execution_count": 69,
   "id": "df532047",
   "metadata": {},
   "outputs": [
    {
     "data": {
      "text/html": [
       "<div>\n",
       "<style scoped>\n",
       "    .dataframe tbody tr th:only-of-type {\n",
       "        vertical-align: middle;\n",
       "    }\n",
       "\n",
       "    .dataframe tbody tr th {\n",
       "        vertical-align: top;\n",
       "    }\n",
       "\n",
       "    .dataframe thead th {\n",
       "        text-align: right;\n",
       "    }\n",
       "</style>\n",
       "<table border=\"1\" class=\"dataframe\">\n",
       "  <thead>\n",
       "    <tr style=\"text-align: right;\">\n",
       "      <th></th>\n",
       "      <th>Disease</th>\n",
       "      <th>Precaution_1</th>\n",
       "      <th>Precaution_2</th>\n",
       "      <th>Precaution_3</th>\n",
       "      <th>Precaution_4</th>\n",
       "    </tr>\n",
       "  </thead>\n",
       "  <tbody>\n",
       "    <tr>\n",
       "      <th>0</th>\n",
       "      <td>Drug Reaction</td>\n",
       "      <td>stop irritation</td>\n",
       "      <td>consult nearest hospital</td>\n",
       "      <td>stop taking drug</td>\n",
       "      <td>follow up</td>\n",
       "    </tr>\n",
       "    <tr>\n",
       "      <th>1</th>\n",
       "      <td>Malaria</td>\n",
       "      <td>Consult nearest hospital</td>\n",
       "      <td>avoid oily food</td>\n",
       "      <td>avoid non veg food</td>\n",
       "      <td>keep mosquitos out</td>\n",
       "    </tr>\n",
       "    <tr>\n",
       "      <th>3</th>\n",
       "      <td>Hypothyroidism</td>\n",
       "      <td>reduce stress</td>\n",
       "      <td>exercise</td>\n",
       "      <td>eat healthy</td>\n",
       "      <td>get proper sleep</td>\n",
       "    </tr>\n",
       "    <tr>\n",
       "      <th>4</th>\n",
       "      <td>Psoriasis</td>\n",
       "      <td>wash hands with warm soapy water</td>\n",
       "      <td>stop bleeding using pressure</td>\n",
       "      <td>consult doctor</td>\n",
       "      <td>salt baths</td>\n",
       "    </tr>\n",
       "    <tr>\n",
       "      <th>5</th>\n",
       "      <td>GERD</td>\n",
       "      <td>avoid fatty spicy food</td>\n",
       "      <td>avoid lying down after eating</td>\n",
       "      <td>maintain healthy weight</td>\n",
       "      <td>exercise</td>\n",
       "    </tr>\n",
       "  </tbody>\n",
       "</table>\n",
       "</div>"
      ],
      "text/plain": [
       "          Disease                      Precaution_1  \\\n",
       "0   Drug Reaction                   stop irritation   \n",
       "1         Malaria          Consult nearest hospital   \n",
       "3  Hypothyroidism                     reduce stress   \n",
       "4       Psoriasis  wash hands with warm soapy water   \n",
       "5            GERD            avoid fatty spicy food   \n",
       "\n",
       "                    Precaution_2             Precaution_3        Precaution_4  \n",
       "0       consult nearest hospital         stop taking drug           follow up  \n",
       "1                avoid oily food       avoid non veg food  keep mosquitos out  \n",
       "3                       exercise              eat healthy    get proper sleep  \n",
       "4   stop bleeding using pressure           consult doctor          salt baths  \n",
       "5  avoid lying down after eating  maintain healthy weight            exercise  "
      ]
     },
     "execution_count": 69,
     "metadata": {},
     "output_type": "execute_result"
    }
   ],
   "source": [
    "df_precautions.head()"
   ]
  },
  {
   "cell_type": "code",
   "execution_count": 38,
   "id": "58533854",
   "metadata": {},
   "outputs": [],
   "source": [
    "ml=MultiLabelBinarizer()\n",
    "x_train_trf=ml.fit_transform(x_train)\n",
    "x_test_trf=ml.transform(x_test)"
   ]
  },
  {
   "cell_type": "code",
   "execution_count": 39,
   "id": "0ced148a",
   "metadata": {},
   "outputs": [],
   "source": [
    "\n",
    "lr=LabelEncoder()\n",
    "y_train_trf=lr.fit_transform(y_train)\n",
    "y_test_trf=lr.transform(y_test)"
   ]
  },
  {
   "cell_type": "code",
   "execution_count": 58,
   "id": "6a01b95b",
   "metadata": {},
   "outputs": [
    {
     "data": {
      "text/html": [
       "<style>#sk-container-id-4 {color: black;}#sk-container-id-4 pre{padding: 0;}#sk-container-id-4 div.sk-toggleable {background-color: white;}#sk-container-id-4 label.sk-toggleable__label {cursor: pointer;display: block;width: 100%;margin-bottom: 0;padding: 0.3em;box-sizing: border-box;text-align: center;}#sk-container-id-4 label.sk-toggleable__label-arrow:before {content: \"▸\";float: left;margin-right: 0.25em;color: #696969;}#sk-container-id-4 label.sk-toggleable__label-arrow:hover:before {color: black;}#sk-container-id-4 div.sk-estimator:hover label.sk-toggleable__label-arrow:before {color: black;}#sk-container-id-4 div.sk-toggleable__content {max-height: 0;max-width: 0;overflow: hidden;text-align: left;background-color: #f0f8ff;}#sk-container-id-4 div.sk-toggleable__content pre {margin: 0.2em;color: black;border-radius: 0.25em;background-color: #f0f8ff;}#sk-container-id-4 input.sk-toggleable__control:checked~div.sk-toggleable__content {max-height: 200px;max-width: 100%;overflow: auto;}#sk-container-id-4 input.sk-toggleable__control:checked~label.sk-toggleable__label-arrow:before {content: \"▾\";}#sk-container-id-4 div.sk-estimator input.sk-toggleable__control:checked~label.sk-toggleable__label {background-color: #d4ebff;}#sk-container-id-4 div.sk-label input.sk-toggleable__control:checked~label.sk-toggleable__label {background-color: #d4ebff;}#sk-container-id-4 input.sk-hidden--visually {border: 0;clip: rect(1px 1px 1px 1px);clip: rect(1px, 1px, 1px, 1px);height: 1px;margin: -1px;overflow: hidden;padding: 0;position: absolute;width: 1px;}#sk-container-id-4 div.sk-estimator {font-family: monospace;background-color: #f0f8ff;border: 1px dotted black;border-radius: 0.25em;box-sizing: border-box;margin-bottom: 0.5em;}#sk-container-id-4 div.sk-estimator:hover {background-color: #d4ebff;}#sk-container-id-4 div.sk-parallel-item::after {content: \"\";width: 100%;border-bottom: 1px solid gray;flex-grow: 1;}#sk-container-id-4 div.sk-label:hover label.sk-toggleable__label {background-color: #d4ebff;}#sk-container-id-4 div.sk-serial::before {content: \"\";position: absolute;border-left: 1px solid gray;box-sizing: border-box;top: 0;bottom: 0;left: 50%;z-index: 0;}#sk-container-id-4 div.sk-serial {display: flex;flex-direction: column;align-items: center;background-color: white;padding-right: 0.2em;padding-left: 0.2em;position: relative;}#sk-container-id-4 div.sk-item {position: relative;z-index: 1;}#sk-container-id-4 div.sk-parallel {display: flex;align-items: stretch;justify-content: center;background-color: white;position: relative;}#sk-container-id-4 div.sk-item::before, #sk-container-id-4 div.sk-parallel-item::before {content: \"\";position: absolute;border-left: 1px solid gray;box-sizing: border-box;top: 0;bottom: 0;left: 50%;z-index: -1;}#sk-container-id-4 div.sk-parallel-item {display: flex;flex-direction: column;z-index: 1;position: relative;background-color: white;}#sk-container-id-4 div.sk-parallel-item:first-child::after {align-self: flex-end;width: 50%;}#sk-container-id-4 div.sk-parallel-item:last-child::after {align-self: flex-start;width: 50%;}#sk-container-id-4 div.sk-parallel-item:only-child::after {width: 0;}#sk-container-id-4 div.sk-dashed-wrapped {border: 1px dashed gray;margin: 0 0.4em 0.5em 0.4em;box-sizing: border-box;padding-bottom: 0.4em;background-color: white;}#sk-container-id-4 div.sk-label label {font-family: monospace;font-weight: bold;display: inline-block;line-height: 1.2em;}#sk-container-id-4 div.sk-label-container {text-align: center;}#sk-container-id-4 div.sk-container {/* jupyter's `normalize.less` sets `[hidden] { display: none; }` but bootstrap.min.css set `[hidden] { display: none !important; }` so we also need the `!important` here to be able to override the default hidden behavior on the sphinx rendered scikit-learn.org. See: https://github.com/scikit-learn/scikit-learn/issues/21755 */display: inline-block !important;position: relative;}#sk-container-id-4 div.sk-text-repr-fallback {display: none;}</style><div id=\"sk-container-id-4\" class=\"sk-top-container\"><div class=\"sk-text-repr-fallback\"><pre>RandomForestClassifier(max_depth=13, n_estimators=4)</pre><b>In a Jupyter environment, please rerun this cell to show the HTML representation or trust the notebook. <br />On GitHub, the HTML representation is unable to render, please try loading this page with nbviewer.org.</b></div><div class=\"sk-container\" hidden><div class=\"sk-item\"><div class=\"sk-estimator sk-toggleable\"><input class=\"sk-toggleable__control sk-hidden--visually\" id=\"sk-estimator-id-4\" type=\"checkbox\" checked><label for=\"sk-estimator-id-4\" class=\"sk-toggleable__label sk-toggleable__label-arrow\">RandomForestClassifier</label><div class=\"sk-toggleable__content\"><pre>RandomForestClassifier(max_depth=13, n_estimators=4)</pre></div></div></div></div></div>"
      ],
      "text/plain": [
       "RandomForestClassifier(max_depth=13, n_estimators=4)"
      ]
     },
     "execution_count": 58,
     "metadata": {},
     "output_type": "execute_result"
    }
   ],
   "source": [
    "\n",
    "rf=RandomForestClassifier(max_depth=13,n_estimators=4)\n",
    "rf.fit(x_train_trf,y_train_trf)\n"
   ]
  },
  {
   "cell_type": "code",
   "execution_count": 59,
   "id": "127a7260",
   "metadata": {},
   "outputs": [],
   "source": [
    "symptoms = ['itching', 'shivering', 'acidity']"
   ]
  },
  {
   "cell_type": "code",
   "execution_count": 60,
   "id": "499581e9",
   "metadata": {},
   "outputs": [],
   "source": [
    "from sklearn.preprocessing import MultiLabelBinarizer\n",
    "\n",
    "mlb = MultiLabelBinarizer()\n",
    "X_encoded = mlb.fit_transform(df['symptom_tuple'])  # During training\n",
    "\n",
    "# Now when predicting:\n",
    "x_input = mlb.transform([symptoms])  # user input\n"
   ]
  },
  {
   "cell_type": "code",
   "execution_count": 61,
   "id": "c57a9c70",
   "metadata": {},
   "outputs": [],
   "source": [
    "y_pred=rf.predict(x_test_trf)"
   ]
  },
  {
   "cell_type": "code",
   "execution_count": 62,
   "id": "71b75386",
   "metadata": {},
   "outputs": [
    {
     "data": {
      "text/plain": [
       "array([[0.        , 0.04659202, 0.02804284, 0.01153846, 0.03304306,\n",
       "        0.03358414, 0.02786802, 0.06597991, 0.02307692, 0.        ,\n",
       "        0.00632911, 0.        , 0.02667965, 0.01898734, 0.01905594,\n",
       "        0.02103213, 0.27337457, 0.03736169, 0.02970368, 0.01153846,\n",
       "        0.01905594, 0.02272727, 0.        , 0.03944078, 0.        ,\n",
       "        0.        , 0.01153846, 0.00632911, 0.        , 0.01265823,\n",
       "        0.00316456, 0.06526401, 0.00884638, 0.00568182, 0.        ,\n",
       "        0.03825241, 0.        , 0.        , 0.04757126, 0.        ,\n",
       "        0.00568182]])"
      ]
     },
     "execution_count": 62,
     "metadata": {},
     "output_type": "execute_result"
    }
   ],
   "source": [
    "probs = rf.predict_proba(x_input)\n",
    "probs"
   ]
  },
  {
   "cell_type": "code",
   "execution_count": 68,
   "id": "95808d44",
   "metadata": {},
   "outputs": [
    {
     "data": {
      "text/plain": [
       "0.8852459016393442"
      ]
     },
     "execution_count": 68,
     "metadata": {},
     "output_type": "execute_result"
    }
   ],
   "source": [
    "from sklearn.metrics import accuracy_score\n",
    "accuracy_score(y_test_trf,y_pred)"
   ]
  },
  {
   "cell_type": "code",
   "execution_count": 64,
   "id": "d08445f1",
   "metadata": {},
   "outputs": [
    {
     "name": "stdout",
     "output_type": "stream",
     "text": [
      "5-fold CV Accuracies: [0.83606557 0.78688525 0.72131148 0.85245902 0.78333333]\n",
      "Mean CV Accuracy: 0.7960109289617486\n"
     ]
    }
   ],
   "source": [
    "scores = cross_val_score(\n",
    "    rf,                        # your trained RandomForest\n",
    "    ml.transform(df['symptom_tuple']),\n",
    "    lr.transform(df['Disease']),\n",
    "    cv=5,                      # 5‑fold CV\n",
    "    scoring='accuracy'\n",
    ")\n",
    "print(\"5-fold CV Accuracies:\", scores)\n",
    "print(\"Mean CV Accuracy:\", scores.mean())\n"
   ]
  },
  {
   "cell_type": "code",
   "execution_count": 65,
   "id": "47e54498",
   "metadata": {},
   "outputs": [],
   "source": [
    "from sklearn.preprocessing import LabelEncoder\n",
    "\n",
    "le = LabelEncoder()\n",
    "y_train_trf = le.fit_transform(df['Disease'])\n"
   ]
  },
  {
   "cell_type": "code",
   "execution_count": 66,
   "id": "26b717af",
   "metadata": {},
   "outputs": [
    {
     "name": "stdout",
     "output_type": "stream",
     "text": [
      "GERD - 27.34%\n",
      "Cervical spondylosis - 6.60%\n",
      "Osteoarthristis - 6.53%\n"
     ]
    }
   ],
   "source": [
    "probs = rf.predict_proba(x_input)\n",
    "top_indices = probs[0].argsort()[::-1][:3]\n",
    "\n",
    "for i in top_indices:\n",
    "    encoded_label = rf.classes_[i]\n",
    "    disease = le.inverse_transform([encoded_label])[0]\n",
    "    probability = probs[0][i]\n",
    "    print(f\"{disease} - {probability:.2%}\")\n"
   ]
  },
  {
   "cell_type": "code",
   "execution_count": 75,
   "id": "7a3ca0fe",
   "metadata": {},
   "outputs": [
    {
     "data": {
      "text/plain": [
       "['F:\\\\ML\\\\Medical\\\\models\\\\prescription.pkl']"
      ]
     },
     "execution_count": 75,
     "metadata": {},
     "output_type": "execute_result"
    }
   ],
   "source": [
    "\n",
    "joblib.dump(rf, r\"F:\\ML\\Medical\\models\\disease_model.pkl\")\n",
    "\n",
    "joblib.dump(ml, r\"F:\\ML\\Medical\\models\\symptom_encoder.pkl\")\n",
    "\n",
    "joblib.dump(le, r\"F:\\ML\\Medical\\models\\label_encoder.pkl\")\n",
    "\n",
    "joblib.dump(df_precautions,r\"F:\\ML\\Medical\\models\\prescription.pkl\")\n"
   ]
  },
  {
   "cell_type": "code",
   "execution_count": null,
   "id": "d60aad45",
   "metadata": {},
   "outputs": [],
   "source": []
  }
 ],
 "metadata": {
  "kernelspec": {
   "display_name": "Python 3",
   "language": "python",
   "name": "python3"
  },
  "language_info": {
   "codemirror_mode": {
    "name": "ipython",
    "version": 3
   },
   "file_extension": ".py",
   "mimetype": "text/x-python",
   "name": "python",
   "nbconvert_exporter": "python",
   "pygments_lexer": "ipython3",
   "version": "3.11.9"
  }
 },
 "nbformat": 4,
 "nbformat_minor": 5
}
